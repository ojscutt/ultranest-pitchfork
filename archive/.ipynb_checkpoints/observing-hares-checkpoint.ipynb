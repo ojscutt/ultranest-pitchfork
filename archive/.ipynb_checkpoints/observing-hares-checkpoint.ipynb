{
 "cells": [
  {
   "cell_type": "markdown",
   "id": "e9707b3f-2b54-4c0b-b48d-62a66014f70d",
   "metadata": {},
   "source": [
    "# observing-hares\n",
    "notebook for simulating observation(s) of hares drawn using `drawing-hares.ipynb`"
   ]
  },
  {
   "cell_type": "code",
   "execution_count": 12,
   "id": "b971f4b4-8967-409a-9dbd-58fc55e9445a",
   "metadata": {},
   "outputs": [],
   "source": [
    "#stock imports\n",
    "import numpy as np\n",
    "import pandas as pd\n",
    "import json\n",
    "import scipy\n",
    "import os\n",
    "##plotting\n",
    "import matplotlib.pyplot as plt\n",
    "\n",
    "#plt.style.use('dark_background')\n",
    "plt.style.use('default')"
   ]
  },
  {
   "cell_type": "markdown",
   "id": "83165993-dbe3-445f-8d0e-89309d0b7305",
   "metadata": {},
   "source": [
    "## single hare\n",
    "let's try to get this working for a single hare first, with fairly uninformed observational uncertainties"
   ]
  },
  {
   "cell_type": "code",
   "execution_count": 105,
   "id": "97af0a4c-c9a0-4e5c-85ae-287791821fbe",
   "metadata": {},
   "outputs": [
    {
     "data": {
      "text/html": [
       "<div>\n",
       "<style scoped>\n",
       "    .dataframe tbody tr th:only-of-type {\n",
       "        vertical-align: middle;\n",
       "    }\n",
       "\n",
       "    .dataframe tbody tr th {\n",
       "        vertical-align: top;\n",
       "    }\n",
       "\n",
       "    .dataframe thead th {\n",
       "        text-align: right;\n",
       "    }\n",
       "</style>\n",
       "<table border=\"1\" class=\"dataframe\">\n",
       "  <thead>\n",
       "    <tr style=\"text-align: right;\">\n",
       "      <th></th>\n",
       "      <th>initial_mass</th>\n",
       "      <th>initial_Zinit</th>\n",
       "      <th>initial_Yinit</th>\n",
       "      <th>initial_MLT</th>\n",
       "      <th>star_age</th>\n",
       "      <th>radius</th>\n",
       "      <th>luminosity</th>\n",
       "      <th>star_feh</th>\n",
       "      <th>nu_0_6</th>\n",
       "      <th>nu_0_7</th>\n",
       "      <th>...</th>\n",
       "      <th>nu_0_33</th>\n",
       "      <th>nu_0_34</th>\n",
       "      <th>nu_0_35</th>\n",
       "      <th>nu_0_36</th>\n",
       "      <th>nu_0_37</th>\n",
       "      <th>nu_0_38</th>\n",
       "      <th>nu_0_39</th>\n",
       "      <th>nu_0_40</th>\n",
       "      <th>calc_effective_T</th>\n",
       "      <th>nu_max_n</th>\n",
       "    </tr>\n",
       "  </thead>\n",
       "  <tbody>\n",
       "    <tr>\n",
       "      <th>1910145</th>\n",
       "      <td>0.9</td>\n",
       "      <td>0.008354</td>\n",
       "      <td>0.26</td>\n",
       "      <td>1.9</td>\n",
       "      <td>11.025208</td>\n",
       "      <td>1.256959</td>\n",
       "      <td>1.539304</td>\n",
       "      <td>-0.329369</td>\n",
       "      <td>671.234506</td>\n",
       "      <td>767.283755</td>\n",
       "      <td>...</td>\n",
       "      <td>3130.939825</td>\n",
       "      <td>3214.802337</td>\n",
       "      <td>3301.743712</td>\n",
       "      <td>3391.382383</td>\n",
       "      <td>3482.687463</td>\n",
       "      <td>3575.064264</td>\n",
       "      <td>3668.173809</td>\n",
       "      <td>3761.424984</td>\n",
       "      <td>5734.520802</td>\n",
       "      <td>18</td>\n",
       "    </tr>\n",
       "  </tbody>\n",
       "</table>\n",
       "<p>1 rows × 45 columns</p>\n",
       "</div>"
      ],
      "text/plain": [
       "         initial_mass  initial_Zinit  initial_Yinit  initial_MLT   star_age  \\\n",
       "1910145           0.9       0.008354           0.26          1.9  11.025208   \n",
       "\n",
       "           radius  luminosity  star_feh      nu_0_6      nu_0_7  ...  \\\n",
       "1910145  1.256959    1.539304 -0.329369  671.234506  767.283755  ...   \n",
       "\n",
       "             nu_0_33      nu_0_34      nu_0_35      nu_0_36      nu_0_37  \\\n",
       "1910145  3130.939825  3214.802337  3301.743712  3391.382383  3482.687463   \n",
       "\n",
       "             nu_0_38      nu_0_39      nu_0_40  calc_effective_T  nu_max_n  \n",
       "1910145  3575.064264  3668.173809  3761.424984       5734.520802        18  \n",
       "\n",
       "[1 rows x 45 columns]"
      ]
     },
     "execution_count": 105,
     "metadata": {},
     "output_type": "execute_result"
    }
   ],
   "source": [
    "hare_idx = 42\n",
    "hare_df = pd.read_json(f'form/hare{hare_idx}/hare{hare_idx}.json')\n",
    "hare_df"
   ]
  },
  {
   "cell_type": "code",
   "execution_count": 156,
   "id": "d01833bf-001c-4212-a0ce-e0267801622a",
   "metadata": {},
   "outputs": [
    {
     "name": "stdout",
     "output_type": "stream",
     "text": [
      "14\n",
      "19\n"
     ]
    }
   ],
   "source": [
    "inputs = ['initial_mass', 'initial_Zinit', 'initial_Yinit', 'initial_MLT', 'star_age']\n",
    "\n",
    "nu_max_n = hare_df['nu_max_n'].values[0]\n",
    "modes = np.random.randint(8,13)\n",
    "flip = np.random.randint(2)\n",
    "int_half = int(modes*0.5)\n",
    "if flip:\n",
    "    n_min=nu_max_n-int_half\n",
    "    n_max=nu_max_n+(modes - int_half)\n",
    "else:\n",
    "    n_min=nu_max_n-(modes - int_half)\n",
    "    n_max=nu_max_n+int_half\n",
    "\n",
    "outputs = ['calc_effective_T', 'luminosity', 'star_feh'] + [f'nu_0_{i}' for i in range(n_min, n_max+1)]\n",
    "\n",
    "teff_unc = 70 #K\n",
    "luminosity_unc = 0.04 #L\\odot\n",
    "surface_feh_unc = 0.1 #dex\n",
    "frequency_unc = np.random.uniform(0.1,1) #\\muHz\n",
    "\n",
    "obs_unc = np.array([teff_unc, luminosity_unc, surface_feh_unc]+[frequency_unc+abs(i-nu_max_n)*0.1 for i in range(n_min,n_max+1)])\n",
    "\n",
    "print(len(obs_unc))\n",
    "hare_cut = hare_df[inputs+outputs]\n",
    "\n",
    "print(len(hare_cut.values[0]))"
   ]
  },
  {
   "cell_type": "code",
   "execution_count": 155,
   "id": "c7dec263-33fc-4521-9ac4-031b8863f4b0",
   "metadata": {},
   "outputs": [
    {
     "data": {
      "text/plain": [
       "array([ 5.67789841e+03,  1.56612287e+00, -3.10152898e-01,  1.31661234e+03,\n",
       "        1.40715267e+03,  1.49639635e+03,  1.58898222e+03,  1.67965980e+03,\n",
       "        1.77158409e+03,  1.86527926e+03,  1.95566861e+03,  2.04824253e+03,\n",
       "        2.14193057e+03])"
      ]
     },
     "execution_count": 155,
     "metadata": {},
     "output_type": "execute_result"
    }
   ],
   "source": [
    "def obs_noise(true, unc, seed=None):\n",
    "    seeded_random_state = np.random.RandomState(seed=seed)\n",
    "    rvs_random_states = seeded_random_state.randint(0, high=2**32 -1,size=len(true))\n",
    "    noisy_obs = np.empty(len(true))\n",
    "    idx = 0\n",
    "    for ob in true:\n",
    "        noisy_obs[idx] = scipy.stats.norm(loc=ob, scale=unc[idx]).rvs(random_state=rvs_random_states[idx])\n",
    "        idx+=1\n",
    "\n",
    "    return noisy_obs\n",
    "\n",
    "hare_obs = obs_noise(hare_cut[outputs].values[0],obs_unc)\n",
    "hare_obs"
   ]
  },
  {
   "cell_type": "markdown",
   "id": "bb337acf-12a3-4887-a896-c9d82d3cd14a",
   "metadata": {},
   "source": [
    "## all hares in form"
   ]
  },
  {
   "cell_type": "code",
   "execution_count": 8,
   "id": "231ac58f-4417-4966-b565-f8f5f4d7ed2d",
   "metadata": {},
   "outputs": [
    {
     "name": "stdout",
     "output_type": "stream",
     "text": [
      "form/hare99/obs0 already exists\r"
     ]
    }
   ],
   "source": [
    "import os\n",
    "inputs = ['initial_mass', 'initial_Zinit', 'initial_Yinit', 'initial_MLT', 'star_age']\n",
    "\n",
    "n_min=6\n",
    "n_max=40\n",
    "outputs = ['calc_effective_T', 'luminosity', 'star_feh'] + [f'nu_0_{i}' for i in range(n_min, n_max+1)]\n",
    "\n",
    "teff_unc = 70 #K\n",
    "luminosity_unc = 0.04 #L\\odot\n",
    "surface_feh_unc = 0.1 #dex\n",
    "frequency_unc = 0.5 #\\muHz\n",
    "\n",
    "obs_unc = np.array([teff_unc, luminosity_unc, surface_feh_unc]+[frequency_unc for i in range(n_min,n_max+1)])\n",
    "\n",
    "def obs_noise(true, unc, seed=None):\n",
    "    seeded_random_state = np.random.RandomState(seed=seed)\n",
    "    rvs_random_states = seeded_random_state.randint(0, high=2**32 -1,size=len(true))\n",
    "    noisy_obs = np.empty(len(true))\n",
    "    idx = 0\n",
    "    for ob in true:\n",
    "        noisy_obs[idx] = scipy.stats.norm(loc=ob, scale=unc[idx]).rvs(random_state=rvs_random_states[idx])\n",
    "        idx+=1\n",
    "\n",
    "    return noisy_obs\n",
    "\n",
    "for hare_idx in range(100):\n",
    "    hare_df = pd.read_json(f'form/hare{hare_idx}/hare{hare_idx}.json')\n",
    "    hare_cut = hare_df[inputs+outputs]\n",
    "    hare_obs = obs_noise(hare_cut[outputs].values[0],obs_unc)\n",
    "    hare_obs_df = hare_cut.copy()\n",
    "    hare_obs_df[outputs] = hare_obs\n",
    "\n",
    "    path = f'form/hare{hare_idx}/obs0'\n",
    "    if not os.path.exists(path):\n",
    "      os.mkdir(path)\n",
    "      print(f\"{path} created!\")\n",
    "    else:\n",
    "      print(f\"{path} already exists\", end='\\r')\n",
    "    hare_obs_df.to_json(path+f'/obs0.json')"
   ]
  },
  {
   "cell_type": "code",
   "execution_count": null,
   "id": "bcbf74a4-c725-4085-8539-e0a7ca3ff0bb",
   "metadata": {},
   "outputs": [],
   "source": []
  }
 ],
 "metadata": {
  "kernelspec": {
   "display_name": "Python 3 (ipykernel)",
   "language": "python",
   "name": "python3"
  },
  "language_info": {
   "codemirror_mode": {
    "name": "ipython",
    "version": 3
   },
   "file_extension": ".py",
   "mimetype": "text/x-python",
   "name": "python",
   "nbconvert_exporter": "python",
   "pygments_lexer": "ipython3",
   "version": "3.9.18"
  }
 },
 "nbformat": 4,
 "nbformat_minor": 5
}
