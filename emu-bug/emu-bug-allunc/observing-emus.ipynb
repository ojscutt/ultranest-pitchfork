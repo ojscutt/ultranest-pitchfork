{
 "cells": [
  {
   "cell_type": "markdown",
   "id": "59583dc3-e706-4bc1-ba12-7806ff0e1200",
   "metadata": {},
   "source": [
    "# observing-emus\n",
    "neatened version of notebook `observing-hares.ipynb'"
   ]
  },
  {
   "cell_type": "code",
   "execution_count": 1,
   "id": "b806d57d-1858-4557-8391-006b3e565d8e",
   "metadata": {},
   "outputs": [
    {
     "name": "stderr",
     "output_type": "stream",
     "text": [
      "2024-10-17 10:03:49.965482: E external/local_xla/xla/stream_executor/cuda/cuda_fft.cc:485] Unable to register cuFFT factory: Attempting to register factory for plugin cuFFT when one has already been registered\n",
      "2024-10-17 10:03:49.976368: E external/local_xla/xla/stream_executor/cuda/cuda_dnn.cc:8454] Unable to register cuDNN factory: Attempting to register factory for plugin cuDNN when one has already been registered\n",
      "2024-10-17 10:03:49.979686: E external/local_xla/xla/stream_executor/cuda/cuda_blas.cc:1452] Unable to register cuBLAS factory: Attempting to register factory for plugin cuBLAS when one has already been registered\n",
      "2024-10-17 10:03:49.988485: I tensorflow/core/platform/cpu_feature_guard.cc:210] This TensorFlow binary is optimized to use available CPU instructions in performance-critical operations.\n",
      "To enable the following instructions: AVX2 FMA, in other operations, rebuild TensorFlow with the appropriate compiler flags.\n",
      "2024-10-17 10:03:50.561886: W tensorflow/compiler/tf2tensorrt/utils/py_utils.cc:38] TF-TRT Warning: Could not find TensorRT\n",
      "2024-10-17 10:03:52.026263: I tensorflow/core/common_runtime/gpu/gpu_device.cc:2021] Created device /job:localhost/replica:0/task:0/device:GPU:0 with 16453 MB memory:  -> device: 0, name: NVIDIA RTX A4500, pci bus id: 0000:61:00.0, compute capability: 8.6\n"
     ]
    }
   ],
   "source": [
    "# stock imports\n",
    "import tensorflow as tf\n",
    "import numpy as np\n",
    "import pandas as pd\n",
    "import json\n",
    "import scipy\n",
    "import os\n",
    "import random\n",
    "import pickle\n",
    "\n",
    "##plotting\n",
    "import matplotlib.pyplot as plt\n",
    "\n",
    "# plt.style.use('dark_background')\n",
    "plt.style.use(\"Solarize_Light2\")\n",
    "plt.rcParams.update({\"axes.edgecolor\": \"black\"})\n",
    "plt.rcParams.update({\"text.color\": \"black\"})\n",
    "plt.rcParams.update({\"axes.labelcolor\": \"black\"})\n",
    "plt.rcParams.update({\"xtick.color\": \"black\"})\n",
    "plt.rcParams.update({\"ytick.color\": \"black\"})\n",
    "plt.rcParams.update({\"font.family\": \"monospace\"})\n",
    "\n",
    "#script imports\n",
    "from scripts import prior_funcs, utils\n",
    "\n",
    "from scripts.pitchfuncs_ultra_pca_v2 import emulator\n",
    "from scripts.pitchfuncs_ultra_pca_v2 import ultra_ns_vector_surface\n",
    "from scripts.pitchfuncs_ultra_pca_v2 import ultra_ns_popslice\n",
    "from scripts.pitchfuncs_ultra_pca_v2 import ultra_ns_popwalk\n",
    "\n",
    "\n",
    "import logging\n",
    "logging.getLogger('ultranest').setLevel(logging.WARNING)\n",
    "\n",
    "os.environ[\"CUDA_VISIBLE_DEVICES\"]=\"1\"\n",
    "\n",
    "physical_devices = tf.config.list_physical_devices(\"GPU\") \n",
    "\n",
    "#os.environ['TF_FORCE_GPU_ALLOW_GROWTH'] = 'true'\n",
    "\n",
    "\n",
    "tf.config.experimental.set_memory_growth(physical_devices[0], True)\n",
    "\n",
    "gpu0usage = tf.config.experimental.get_memory_info(\"GPU:0\")[\"current\"]"
   ]
  },
  {
   "cell_type": "code",
   "execution_count": 2,
   "id": "8687f4e4-139a-45a3-8b70-1b5f1a8c8f8e",
   "metadata": {},
   "outputs": [
    {
     "name": "stderr",
     "output_type": "stream",
     "text": [
      "WARNING:absl:Compiled the loaded model, but the compiled metrics have yet to be built. `model.compile_metrics` will be empty until you train or evaluate the model.\n",
      "WARNING:absl:Error in loading the saved optimizer state. As a result, your model is starting with a freshly initialized optimizer.\n"
     ]
    },
    {
     "name": "stdout",
     "output_type": "stream",
     "text": [
      "initial_mass range: [min = 0.8, max = 1.2]\n",
      "initial_Zinit range: [min = 0.003869061466818601, max = 0.0389797119014747]\n",
      "initial_Yinit range: [min = 0.24, max = 0.32]\n",
      "initial_MLT range: [min = 1.7, max = 2.5]\n",
      "star_age range: [min = 0.029664111540787196, max = 13.999973871651315]\n"
     ]
    }
   ],
   "source": [
    "pitchfork_name = \"nu6-40_elu_nonorm_feh\"\n",
    "pitchfork = emulator(pitchfork_name)\n",
    "\n",
    "with open(\"pitchfork/\" +pitchfork_name+ \".pkl\", 'rb') as fp:\n",
    "     pitchfork_info = pickle.load(fp)\n",
    "\n",
    "pitchfork_ranges = pitchfork_info['parameter_ranges']"
   ]
  },
  {
   "cell_type": "markdown",
   "id": "f5b47089-9e10-449f-976e-34c154f6ee90",
   "metadata": {},
   "source": [
    "## fixed ab, modes vary, unc"
   ]
  },
  {
   "cell_type": "code",
   "execution_count": 3,
   "id": "acd8c8a2-ab95-475a-8f98-3bd900d38835",
   "metadata": {
    "scrolled": true
   },
   "outputs": [
    {
     "name": "stdout",
     "output_type": "stream",
     "text": [
      "nest/emu9/obs4 already exists\r"
     ]
    }
   ],
   "source": [
    "def nu_max_range(nu_max_n, mode_min=8, mode_max=16):\n",
    "    modes = np.random.randint(mode_min, mode_max)\n",
    "    flip = np.random.randint(2)\n",
    "    int_half = int(modes * 0.5)\n",
    "    if flip:\n",
    "        n_min = nu_max_n - int_half\n",
    "        n_max = nu_max_n + (modes - int_half)\n",
    "    else:\n",
    "        n_min = nu_max_n - (modes - int_half)\n",
    "        n_max = nu_max_n + int_half\n",
    "\n",
    "    return n_min, n_max\n",
    "\n",
    "\n",
    "def obs_noise(true, unc, seed=None):\n",
    "    seeded_random_state = np.random.RandomState(seed=seed)\n",
    "    rvs_random_states = seeded_random_state.randint(0, high=2**32 - 1, size=len(true))\n",
    "    noisy_obs = np.empty(len(true))\n",
    "    idx = 0\n",
    "    for ob in true:\n",
    "        noisy_obs[idx] = scipy.stats.norm(loc=ob, scale=unc[idx]).rvs(\n",
    "            random_state=rvs_random_states[idx]\n",
    "        )\n",
    "        idx += 1\n",
    "\n",
    "    return noisy_obs\n",
    "\n",
    "\n",
    "def surf_corr(freqs, nu_max, a, b):\n",
    "    return freqs + a * ((freqs / nu_max) ** b)\n",
    "\n",
    "\n",
    "inputs = [\"initial_mass\", \"initial_Zinit\", \"initial_Yinit\", \"initial_MLT\", \"star_age\", \"a\", \"b\"]\n",
    "\n",
    "teff_unc = 70  # K\n",
    "luminosity_unc = 0.04  # L\\odot\n",
    "surface_feh_unc = 0.1  # dex\n",
    "\n",
    "for obs_idx in range(5):\n",
    "    for emu_idx in range(10):\n",
    "        path = f\"nest/emu{emu_idx}\"\n",
    "        \n",
    "        emu_df = pd.read_json(path+f\"/emu{emu_idx}.json\")\n",
    "    \n",
    "        nu_max = emu_df[\"nu_max\"].values[0]\n",
    "        nu_max_n = emu_df[\"nu_max_n\"].values[0]\n",
    "        n_min, n_max = nu_max_range(nu_max_n) #nu_max_range(nu_max_n)\n",
    "        outputs = [\"calc_effective_T\", \"luminosity\", \"star_feh\"] + [\n",
    "            f\"nu_0_{i}\" for i in range(n_min, n_max + 1)\n",
    "        ]\n",
    "    \n",
    "        emu_df = emu_df[inputs + outputs]\n",
    "    \n",
    "        ### add surface correction\n",
    "        # generate a and b\n",
    "        a = emu_df[\"a\"].values[0]\n",
    "        b = emu_df[\"b\"].values[0]\n",
    "    \n",
    "        freqs = emu_df[[f\"nu_0_{i}\" for i in range(n_min, n_max + 1)]].values[0]\n",
    "    \n",
    "        dnu = np.mean(freqs[1:] - freqs[:-1])\n",
    "    \n",
    "        #nu_max = freqs.mean()\n",
    "        # shift frequencies\n",
    "        freqs_corr = surf_corr(freqs, nu_max, a, b)\n",
    "    \n",
    "        # reapply\n",
    "    \n",
    "        emu_cut = emu_df.copy()\n",
    "        emu_cut.loc[:, [f\"nu_0_{i}\" for i in range(n_min, n_max + 1)]] = freqs_corr\n",
    "    \n",
    "        frequency_unc = np.random.uniform(0.1, 1)  # \\muHz\n",
    "    \n",
    "        obs_unc = np.array(\n",
    "            [teff_unc, luminosity_unc, surface_feh_unc]\n",
    "            + [frequency_unc + abs(i - nu_max_n) * 0.1 for i in range(n_min, n_max + 1)]\n",
    "        )\n",
    "    \n",
    "        emu_obs = obs_noise(emu_cut.drop(inputs, axis=1).values[0], obs_unc)\n",
    "    \n",
    "        emu_obs = obs_noise(emu_cut[outputs].values[0], obs_unc)\n",
    "        emu_obs_df = emu_cut.copy()\n",
    "        emu_obs_df[outputs] = emu_obs\n",
    "        emu_obs_df[[\"a\", \"b\"]] = [a, b]\n",
    "    \n",
    "        # plt.scatter(emu_obs_df[[f'nu_0_{i}' for i in range(n_min, n_max+1)]]%dnu, emu_obs_df[[f'nu_0_{i}' for i in range(n_min, n_max+1)]], label=f'a={a:.2f}, b={b:.2f}, obs unc')\n",
    "    \n",
    "        plt.xlim((0, dnu))\n",
    "        # plt.legend()\n",
    "        fig, ax = plt.subplots()\n",
    "        ax.scatter(\n",
    "            np.arange(0, len(obs_unc)), (emu_obs - emu_cut[outputs].values[0]) / obs_unc\n",
    "        )\n",
    "        ax.axhline(0, c=\"black\")\n",
    "        ax.axhline(-1, c=\"black\", linestyle=\"--\")\n",
    "        ax.axhline(1, c=\"black\", linestyle=\"--\")\n",
    "    \n",
    "        yabs_max = abs(max(ax.get_ylim(), key=abs))\n",
    "        ax.set_ylim(ymin=-yabs_max, ymax=yabs_max)\n",
    "        ax.set_xticks(np.arange(0, len(obs_unc)))\n",
    "        ax.set_xticklabels(outputs)\n",
    "        # ax.tick_params(axis='x', labelrotation=90)\n",
    "    \n",
    "        plt.setp(ax.get_xticklabels(), rotation=45, ha=\"right\", rotation_mode=\"anchor\")\n",
    "        ax.set_title(\"z-score of observed vs true emu params\")\n",
    "        ax.set_ylabel(\"z-score\")\n",
    "    \n",
    "        path += f\"/obs{obs_idx}\"\n",
    "        \n",
    "        if not os.path.exists(path):\n",
    "            os.mkdir(path)\n",
    "            print(f\"{path} created!\")\n",
    "        else:\n",
    "            print(f\"{path} already exists\", end=\"\\r\")\n",
    "        emu_obs_df.to_json(path + f\"/obs{obs_idx}.json\")\n",
    "        pd.DataFrame([obs_unc], columns=outputs).to_json(path + \"/uncs.json\")\n",
    "        plt.savefig(path + \"/zscore_plot.png\", bbox_inches=\"tight\")\n",
    "        plt.close()\n",
    "plt.close()"
   ]
  },
  {
   "cell_type": "code",
   "execution_count": null,
   "id": "7a007905-10f7-4727-abe6-645e096b5f4b",
   "metadata": {},
   "outputs": [],
   "source": []
  }
 ],
 "metadata": {
  "kernelspec": {
   "display_name": "Python 3 (ipykernel)",
   "language": "python",
   "name": "python3"
  },
  "language_info": {
   "codemirror_mode": {
    "name": "ipython",
    "version": 3
   },
   "file_extension": ".py",
   "mimetype": "text/x-python",
   "name": "python",
   "nbconvert_exporter": "python",
   "pygments_lexer": "ipython3",
   "version": "3.12.5"
  }
 },
 "nbformat": 4,
 "nbformat_minor": 5
}
