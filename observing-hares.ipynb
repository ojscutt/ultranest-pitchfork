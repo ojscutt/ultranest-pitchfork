{
 "cells": [
  {
   "cell_type": "markdown",
   "id": "e9707b3f-2b54-4c0b-b48d-62a66014f70d",
   "metadata": {},
   "source": [
    "# observing-hares\n",
    "notebook for simulating observation(s) of hares drawn using `drawing-hares.ipynb`"
   ]
  },
  {
   "cell_type": "code",
   "execution_count": 2,
   "id": "b971f4b4-8967-409a-9dbd-58fc55e9445a",
   "metadata": {},
   "outputs": [],
   "source": [
    "#stock imports\n",
    "import numpy as np\n",
    "import pandas as pd\n",
    "import json\n",
    "import scipy\n",
    "##plotting\n",
    "import matplotlib.pyplot as plt\n",
    "\n",
    "#plt.style.use('dark_background')\n",
    "plt.style.use('default')"
   ]
  },
  {
   "cell_type": "code",
   "execution_count": null,
   "id": "5b1ae8d4-0441-4e8a-bd2b-ea0b8c4426d3",
   "metadata": {},
   "outputs": [],
   "source": []
  },
  {
   "cell_type": "code",
   "execution_count": null,
   "id": "97af0a4c-c9a0-4e5c-85ae-287791821fbe",
   "metadata": {},
   "outputs": [],
   "source": []
  }
 ],
 "metadata": {
  "kernelspec": {
   "display_name": "Python 3 (ipykernel)",
   "language": "python",
   "name": "python3"
  },
  "language_info": {
   "codemirror_mode": {
    "name": "ipython",
    "version": 3
   },
   "file_extension": ".py",
   "mimetype": "text/x-python",
   "name": "python",
   "nbconvert_exporter": "python",
   "pygments_lexer": "ipython3",
   "version": "3.9.18"
  }
 },
 "nbformat": 4,
 "nbformat_minor": 5
}
